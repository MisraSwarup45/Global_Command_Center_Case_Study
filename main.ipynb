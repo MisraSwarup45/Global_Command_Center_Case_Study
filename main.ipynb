{
 "cells": [
  {
   "cell_type": "code",
   "execution_count": 99,
   "metadata": {},
   "outputs": [],
   "source": [
    "import pandas as pd"
   ]
  },
  {
   "cell_type": "code",
   "execution_count": 178,
   "metadata": {},
   "outputs": [],
   "source": [
    "#Getting the data\n",
    "actual = pd.read_csv(\"D:/casestudy/asset/actuals.csv\")\n",
    "targets = pd.read_csv(\"D:/casestudy/asset/targets.csv\")\n",
    "price = pd.read_csv(\"D:/casestudy/asset/price.csv\")\n",
    "bncr = pd.read_csv(\"D:/casestudy/asset/bncr.csv\")"
   ]
  },
  {
   "cell_type": "code",
   "execution_count": 181,
   "metadata": {},
   "outputs": [],
   "source": [
    "# targets['Target Value in LC'] = targets['Target Value in LC']\n",
    "targets['Target Value in LC'] = targets['Target Value in LC'].str.replace('-', '0')\n",
    "targets['Target Value in LC'] = targets['Target Value in LC'].str.replace(',', '')\n",
    "targets['Target Value in LC'] = targets['Target Value in LC'].astype(float)\n",
    "targets.to_csv(\"D:/casestudy/asset/targets.csv\", index=False)"
   ]
  },
  {
   "cell_type": "code",
   "execution_count": 173,
   "metadata": {},
   "outputs": [
    {
     "name": "stdout",
     "output_type": "stream",
     "text": [
      "(19860, 6)\n",
      "                     Material Description Plant  Period  Year  Amount in LC  \\\n",
      "0      B&CR: 660RB Green Lite & Red Crate    AA       7  2022       6659.40   \n",
      "1      B&CR: 660RB Green Lite & Red Crate    AA       7  2022       8301.32   \n",
      "2      B&CR: 660RB Green Lite & Red Crate    AA       7  2022       5806.34   \n",
      "3      B&CR: 660RB Green Lite & Red Crate    AA       7  2022       8567.33   \n",
      "4      B&CR: 660RB Green Lite & Red Crate    AA       7  2022      11897.03   \n",
      "...                                   ...   ...     ...   ...           ...   \n",
      "65052  B&CR: 660RB Green Lite & Red Crate    AG       9  2022       1357.56   \n",
      "65053  B&CR: 660RB Green Lite & Red Crate    AG       9  2022       1559.36   \n",
      "65056  B&CR: 660RB Green Lite & Red Crate    AG       9  2022       8301.32   \n",
      "65059                      Keg: 50L Empty    AG       9  2022     262966.95   \n",
      "65061                      Keg: 30L Empty    AG       9  2022      48373.29   \n",
      "\n",
      "       Quantity  \n",
      "0           222  \n",
      "1           276  \n",
      "2           193  \n",
      "3           285  \n",
      "4           395  \n",
      "...         ...  \n",
      "65052        46  \n",
      "65053        53  \n",
      "65056       276  \n",
      "65059       557  \n",
      "65061       104  \n",
      "\n",
      "[19860 rows x 6 columns]\n",
      "(19860, 6)\n"
     ]
    }
   ],
   "source": [
    "#filltering the data\n",
    "print(actual.shape)\n",
    "actual = actual.drop_duplicates()\n",
    "actual = actual.dropna()\n",
    "col_to_check = ['Amount in LC', 'Quantity']\n",
    "for column in col_to_check:\n",
    "    actual[column] = actual[column].apply(lambda x: max(0, x))\n",
    "\n",
    "print(actual)\n",
    "print(actual.shape)\n"
   ]
  },
  {
   "cell_type": "code",
   "execution_count": 174,
   "metadata": {},
   "outputs": [
    {
     "name": "stdout",
     "output_type": "stream",
     "text": [
      "(926, 6)\n",
      "(155, 6)\n",
      "Year                  0\n",
      "Period                0\n",
      "Plant                 0\n",
      "Material Number       0\n",
      "Target Value in LC    0\n",
      "Target Quantity       0\n",
      "dtype: int64\n",
      "0\n"
     ]
    }
   ],
   "source": [
    "print(targets.shape)\n",
    "targets = targets.drop_duplicates()\n",
    "targets = targets.dropna()\n",
    "# print(targets)\n",
    "print(targets.shape)\n",
    "print(targets.isna().sum())\n",
    "print(targets.duplicated(subset=targets.columns).sum())"
   ]
  },
  {
   "cell_type": "code",
   "execution_count": 175,
   "metadata": {},
   "outputs": [
    {
     "name": "stdout",
     "output_type": "stream",
     "text": [
      "(519, 3)\n",
      "(519, 3)\n",
      "Plant                   0\n",
      "Material Description    0\n",
      " Price per case         0\n",
      "dtype: int64\n",
      "0\n"
     ]
    }
   ],
   "source": [
    "print(price.shape)\n",
    "price = price.drop_duplicates()\n",
    "price = price.dropna()\n",
    "# print(price)\n",
    "print(price.shape)\n",
    "print(price.isna().sum())\n",
    "print(price.duplicated(subset=price.columns).sum())"
   ]
  },
  {
   "cell_type": "code",
   "execution_count": 176,
   "metadata": {},
   "outputs": [
    {
     "name": "stdout",
     "output_type": "stream",
     "text": [
      "(74, 3)\n",
      "(56, 3)\n",
      "Material Number    0\n",
      "Bottle             0\n",
      "Crate              0\n",
      "dtype: int64\n",
      "0\n"
     ]
    }
   ],
   "source": [
    "print(bncr.shape)\n",
    "bncr = bncr.drop_duplicates()\n",
    "bncr = bncr.dropna()\n",
    "# print(bncr)\n",
    "print(bncr.shape)\n",
    "print(bncr.isna().sum())\n",
    "print(bncr.duplicated(subset=bncr.columns).sum())"
   ]
  },
  {
   "cell_type": "code",
   "execution_count": 161,
   "metadata": {},
   "outputs": [],
   "source": [
    "#Merging the data\n",
    "merged_data = pd.concat([actual, targets, price, bncr], ignore_index=True)\n",
    "merged_data.to_csv(\"D:/casestudy/asset/merged_data.csv\", index=False)"
   ]
  },
  {
   "cell_type": "code",
   "execution_count": 162,
   "metadata": {},
   "outputs": [
    {
     "name": "stdout",
     "output_type": "stream",
     "text": [
      "                     Material Description Plant  Period    Year  Amount in LC  \\\n",
      "0      B&CR: 660RB Green Lite & Red Crate    AA     7.0  2022.0       6659.40   \n",
      "1      B&CR: 660RB Green Lite & Red Crate    AA     7.0  2022.0       8301.32   \n",
      "2      B&CR: 660RB Green Lite & Red Crate    AA     7.0  2022.0       5806.34   \n",
      "3      B&CR: 660RB Green Lite & Red Crate    AA     7.0  2022.0       8567.33   \n",
      "4      B&CR: 660RB Green Lite & Red Crate    AA     7.0  2022.0      11897.03   \n",
      "...                                   ...   ...     ...     ...           ...   \n",
      "21537                                 NaN   NaN     NaN     NaN           NaN   \n",
      "21538                                 NaN   NaN     NaN     NaN           NaN   \n",
      "21539                                 NaN   NaN     NaN     NaN           NaN   \n",
      "21540                                 NaN   NaN     NaN     NaN           NaN   \n",
      "21541                                 NaN   NaN     NaN     NaN           NaN   \n",
      "\n",
      "       Quantity                           Material Number Target Value in LC  \\\n",
      "0         222.0                                       NaN                NaN   \n",
      "1         276.0                                       NaN                NaN   \n",
      "2         193.0                                       NaN                NaN   \n",
      "3         285.0                                       NaN                NaN   \n",
      "4         395.0                                       NaN                NaN   \n",
      "...         ...                                       ...                ...   \n",
      "21537       NaN   XXXB&CR: 660RB Flint MGD & Yellow Crate                NaN   \n",
      "21538       NaN  XXXB&CR: 660RB Green Peroni & Navy Crate                NaN   \n",
      "21539       NaN  XXXB&CR: 660RB Green Peroni & Navy Crate                NaN   \n",
      "21540       NaN   XXXX B&CR: 660RB Flint Bella&BrownCrate                NaN   \n",
      "21541       NaN   XXXX B&CR: 660RB Flint Bella&BrownCrate                NaN   \n",
      "\n",
      "       Target Quantity  Price per case                       Bottle  \\\n",
      "0                  NaN              NaN                         NaN   \n",
      "1                  NaN              NaN                         NaN   \n",
      "2                  NaN              NaN                         NaN   \n",
      "3                  NaN              NaN                         NaN   \n",
      "4                  NaN              NaN                         NaN   \n",
      "...                ...              ...                         ...   \n",
      "21537              NaN              NaN         Crate: Yellow Quart   \n",
      "21538              NaN              NaN  Bottle: 660RB Green Peroni   \n",
      "21539              NaN              NaN           Crate: Navy Quart   \n",
      "21540              NaN              NaN   Bottle: 660RB Flint Bella   \n",
      "21541              NaN              NaN          Crate: Brown Quart   \n",
      "\n",
      "                                         Crate  \n",
      "0                                          NaN  \n",
      "1                                          NaN  \n",
      "2                                          NaN  \n",
      "3                                          NaN  \n",
      "4                                          NaN  \n",
      "...                                        ...  \n",
      "21537                      Crate: Yellow Quart  \n",
      "21538               Bottle: 660RB Green Peroni  \n",
      "21539                        Crate: Navy Quart  \n",
      "21540                Bottle: 660RB Flint Bella  \n",
      "21541  XXXX B&CR: 660RB Flint Bella&BrownCrate  \n",
      "\n",
      "[21542 rows x 12 columns]\n"
     ]
    }
   ],
   "source": [
    "#Mered Data\n",
    "merged_data_new = pd.read_csv(\"D:/casestudy/asset/merged_data.csv\")\n",
    "print(merged_data_new)\n",
    "temp_merge_data = merged_data_new.copy()\n",
    "\n"
   ]
  },
  {
   "cell_type": "code",
   "execution_count": 18,
   "metadata": {},
   "outputs": [],
   "source": [
    "#Dropping the columns\n",
    "temp_merge_data = temp_merge_data.drop(['Material Description','Period','Year','Target Value in LC','Target Quantity'], axis=1)"
   ]
  },
  {
   "cell_type": "code",
   "execution_count": 19,
   "metadata": {},
   "outputs": [
    {
     "name": "stdout",
     "output_type": "stream",
     "text": [
      "  Plant  Amount in LC  Quantity Material Number  Price per case  Bottle Crate\n",
      "0    AA     6,659.40      222.0             NaN              NaN    NaN   NaN\n",
      "1    AA     8,301.32      276.0             NaN              NaN    NaN   NaN\n",
      "2    AA     5,806.34      193.0             NaN              NaN    NaN   NaN\n",
      "3    AA     8,567.33      285.0             NaN              NaN    NaN   NaN\n",
      "4    AA    11,897.03      395.0             NaN              NaN    NaN   NaN\n",
      "(66584, 7)\n"
     ]
    }
   ],
   "source": [
    "print(temp_merge_data.head(5))\n",
    "print(temp_merge_data.shape)"
   ]
  },
  {
   "cell_type": "code",
   "execution_count": 20,
   "metadata": {},
   "outputs": [
    {
     "name": "stdout",
     "output_type": "stream",
     "text": [
      "(12295, 7)\n",
      "  Plant  Amount in LC  Quantity Material Number  Price per case  Bottle Crate\n",
      "0    AA     6,659.40      222.0             NaN              NaN    NaN   NaN\n",
      "1    AA     8,301.32      276.0             NaN              NaN    NaN   NaN\n",
      "2    AA     5,806.34      193.0             NaN              NaN    NaN   NaN\n",
      "3    AA     8,567.33      285.0             NaN              NaN    NaN   NaN\n",
      "4    AA    11,897.03      395.0             NaN              NaN    NaN   NaN\n"
     ]
    }
   ],
   "source": [
    "temp_merge_data = temp_merge_data.drop_duplicates()\n",
    "#temp_merge_data = temp_merge_data.dropna()\n",
    "print(temp_merge_data.shape)\n",
    "print(temp_merge_data.head(5))"
   ]
  },
  {
   "cell_type": "code",
   "execution_count": null,
   "metadata": {},
   "outputs": [],
   "source": []
  }
 ],
 "metadata": {
  "kernelspec": {
   "display_name": "Python 3",
   "language": "python",
   "name": "python3"
  },
  "language_info": {
   "codemirror_mode": {
    "name": "ipython",
    "version": 3
   },
   "file_extension": ".py",
   "mimetype": "text/x-python",
   "name": "python",
   "nbconvert_exporter": "python",
   "pygments_lexer": "ipython3",
   "version": "3.9.0"
  },
  "orig_nbformat": 4
 },
 "nbformat": 4,
 "nbformat_minor": 2
}
